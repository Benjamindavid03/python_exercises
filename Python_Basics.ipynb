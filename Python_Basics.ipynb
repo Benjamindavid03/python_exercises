{
  "nbformat": 4,
  "nbformat_minor": 0,
  "metadata": {
    "colab": {
      "name": "Python Basics.ipynb",
      "provenance": [],
      "collapsed_sections": [
        "GPRERNufCTZ1",
        "83NW7aBvCYD8",
        "K26bjL5s6io7",
        "gcRCwP0vGuTb",
        "FyReFxev78-N",
        "BpdcugT-8Xhf",
        "h3K_qBJ38Kgm",
        "meZNICL2_XmM",
        "_DwV0seDGLSe",
        "2Nl1fxdMGYFP"
      ],
      "toc_visible": true,
      "authorship_tag": "ABX9TyPB0LfS1NrAkGJ/XBtMyKLv",
      "include_colab_link": true
    },
    "kernelspec": {
      "name": "python3",
      "display_name": "Python 3"
    },
    "language_info": {
      "name": "python"
    }
  },
  "cells": [
    {
      "cell_type": "markdown",
      "metadata": {
        "id": "view-in-github",
        "colab_type": "text"
      },
      "source": [
        "<a href=\"https://colab.research.google.com/github/Benjamindavid03/python_exercises/blob/main/Python_Basics.ipynb\" target=\"_parent\"><img src=\"https://colab.research.google.com/assets/colab-badge.svg\" alt=\"Open In Colab\"/></a>"
      ]
    },
    {
      "cell_type": "markdown",
      "metadata": {
        "id": "o7Ufwqz4wtZB"
      },
      "source": [
        "## Jupiter Notebook\n",
        "This is the tool that we can use for running python programs directly in the internet"
      ]
    },
    {
      "cell_type": "markdown",
      "metadata": {
        "id": "UvjP0tD3ALnf"
      },
      "source": [
        "# Python fundamentals"
      ]
    },
    {
      "cell_type": "markdown",
      "metadata": {
        "id": "GPRERNufCTZ1"
      },
      "source": [
        "## Introduction to comments in python"
      ]
    },
    {
      "cell_type": "code",
      "metadata": {
        "id": "_zvNiubGAVHZ"
      },
      "source": [
        "# This is a comment just for understanding whatever I teach in python"
      ],
      "execution_count": null,
      "outputs": []
    },
    {
      "cell_type": "markdown",
      "metadata": {
        "id": "83NW7aBvCYD8"
      },
      "source": [
        "## using print() function to display text on screen"
      ]
    },
    {
      "cell_type": "code",
      "metadata": {
        "id": "N440BhC4BFw0"
      },
      "source": [
        "print(\"Welcome to python Frances\");"
      ],
      "execution_count": null,
      "outputs": []
    },
    {
      "cell_type": "code",
      "metadata": {
        "id": "taJdD6PdEgS_"
      },
      "source": [
        "print('The strings in python can also be given in single quotations');"
      ],
      "execution_count": null,
      "outputs": []
    },
    {
      "cell_type": "markdown",
      "metadata": {
        "id": "K26bjL5s6io7"
      },
      "source": [
        "## Variables in *Python*"
      ]
    },
    {
      "cell_type": "markdown",
      "metadata": {
        "id": "gcRCwP0vGuTb"
      },
      "source": [
        "### creating variables in python"
      ]
    },
    {
      "cell_type": "code",
      "metadata": {
        "id": "K3rTxnuq6yDh"
      },
      "source": [
        "v=10;                   #assign 10 to variable v\n",
        "name = \"Dr. Benjamin\";  #assign 'Dr. Benjamin' to variable name\n",
        "s1 = 3.45;              #assign to s1\n",
        "s2 = 6.532;             #assign to s2\n",
        "s3 = 'Q';\n",
        "print(v);\n",
        "print(name);\n",
        "print(s1);\n",
        "print(s2);\n",
        "print(s3);"
      ],
      "execution_count": null,
      "outputs": []
    },
    {
      "cell_type": "markdown",
      "metadata": {
        "id": "FyReFxev78-N"
      },
      "source": [
        "### To know the type of a variable"
      ]
    },
    {
      "cell_type": "code",
      "metadata": {
        "id": "_x5BzJp171ZG"
      },
      "source": [
        "#we can use the type function \n",
        "print(type(v));\n",
        "print(type(name));\n",
        "print(type(s1));\n",
        "print(type(s2));\n",
        "print(type(s3));"
      ],
      "execution_count": null,
      "outputs": []
    },
    {
      "cell_type": "markdown",
      "metadata": {
        "id": "BpdcugT-8Xhf"
      },
      "source": [
        "### Default types in python\n",
        "<h3>Python has the following data types built-in by default, in these categories:</h3>\n",
        "\n",
        "<ol>\n",
        "<li>Text Type:\tstr</li>\n",
        "<li>Numeric Types:\tint, float, complex</li>\n",
        "<li>Sequence Types:\tlist, tuple, range</li>\n",
        "<li>Mapping Type:\tdict</li>\n",
        "<li>Set Types:\tset, frozenset</li>\n",
        "<li>Boolean Type:\tbool</li>\n",
        "<li>Binary Types:\tbytes, bytearray, memoryview</li>\n",
        "</ol>"
      ]
    },
    {
      "cell_type": "code",
      "metadata": {
        "id": "jXNAa-iR8WST"
      },
      "source": [
        "#different types in python \n",
        "#assigning the variables with values\n",
        "\n",
        "#string\n",
        "x = \"Hello World\";\n",
        "print(x);\n",
        "print(type(x));\n",
        "\n",
        "#int\n",
        "x = 20;  \n",
        "print(x);\n",
        "print(type(x));\n",
        "#float\n",
        "x = 20.5;\n",
        "print(x);\n",
        "print(type(x));\n",
        "#complex\n",
        "x = 3+5j;    #real and imaginary is stored\n",
        "print(x);\n",
        "x = +8j;     # imaginary is only stored\n",
        "print(type(x));\n",
        "print(x);\n",
        "\n",
        "#list\n",
        "x = [\"apple\", \"banana\", \"cherry\"];\n",
        "print(x);\n",
        "print(type(x));\n",
        "\n",
        "#tuple\n",
        "x = (\"apple\", \"banana\", \"cherry\");\n",
        "print(x);\n",
        "print(type(x));\n",
        "\n",
        "#range\n",
        "x = range(6);\n",
        "print(x);\n",
        "print(type(x));\n",
        "\n",
        "#dict\n",
        "x = {\"name\" : \"John\", \"age\" : 36};  #name value pair (or) key value pair\n",
        "print(x);\n",
        "print(type(x));\n",
        "\n",
        "#set\n",
        "x = {\"apple\", \"banana\", \"cherry\"};\n",
        "print(x);\n",
        "\n",
        "y = {\"Sv cvb \", \"fdvdfvN\", \"sacxascC\"};\n",
        "\n",
        "#frozenset\n",
        "x = frozenset({\"apple\", \"banana\", \"cherry\"}); # passing the set values directly in the frozenset function\n",
        "print(x);\n",
        "x = frozenset(y); # passing the set variable y to the forzenset function\n",
        "print(x);\n",
        "\n",
        "#bool\n",
        "x = True;\n",
        "print(x);\n",
        "y = False;\n",
        "print(y);\n",
        "print(type(x));\n",
        "print(type(y));\n",
        "\n",
        "#bytes\n",
        "x = b\"Hello\";\n",
        "print(bytes(x))\n",
        "print(x);\n",
        "print(type(x));\n",
        "#bytearray\n",
        "x = bytearray(5);\n",
        "print(x);\n",
        "#100001110\n",
        "#0-9,A,B,C,D,E,F\n",
        "#memoryview\n",
        "x = memoryview(bytes(8));\n",
        "print(x);\n",
        "\n",
        "print(type(\"4.5.3.2\"));"
      ],
      "execution_count": null,
      "outputs": []
    },
    {
      "cell_type": "markdown",
      "metadata": {
        "id": "h3K_qBJ38Kgm"
      },
      "source": [
        "### Type conversion from one type to another\n",
        "convert the type of an variable from one type to another"
      ]
    },
    {
      "cell_type": "code",
      "metadata": {
        "id": "q-VM3ERz8I8O"
      },
      "source": [
        "x = str(3)    # x will be '3'\n",
        "print(x);\n",
        "print(type(x))\n",
        "y = int(3.56)    # y will be 3\n",
        "print(y);\n",
        "print(type(y))\n",
        "z = float(\"5\")  # z will be 3.0\n",
        "print(z);\n",
        "print(type(z))\n",
        "#convert from int to float:\n",
        "a = float(x)\n",
        "print(a)"
      ],
      "execution_count": null,
      "outputs": []
    },
    {
      "cell_type": "markdown",
      "metadata": {
        "id": "meZNICL2_XmM"
      },
      "source": [
        "### DataType setting using constructor\n",
        "If you want to specify the data type, you can use the following constructor functions"
      ]
    },
    {
      "cell_type": "code",
      "metadata": {
        "id": "4GBiPESk87dm"
      },
      "source": [
        "# we are assigning the variables using the constructor of the classes\n",
        "x = \"Hello World\";\n",
        "x = str(\"Hello World\");\n",
        "print(x);\n",
        "print(type(x));\n",
        "x = int(20);\n",
        "print(x);\n",
        "x = float(20.5);\n",
        "print(x);\n",
        "x = complex(1j);\n",
        "print(x);\n",
        "x = list((\"apple\", \"banana\", \"cherry\"));\n",
        "print(x);\n",
        "x = tuple((\"apple\", \"banana\", \"cherry\"));\n",
        "print(x);\n",
        "x = range(6);\n",
        "print(x);\n",
        "x = dict(name=\"John\", age=36, city=\"Thoothukudi\");\n",
        "print(x);\n",
        "x = set((\"apple\", \"banana\", \"cherry\"));\n",
        "print(x);\n",
        "x = frozenset((\"apple\", \"banana\", \"cherry\"));\n",
        "print(x);\n",
        "x = bool(0);  # represents False\n",
        "print(x);\n",
        "x = bool(4);  #represents  True \n",
        "print(x);\n",
        "x = bytes(5);\n",
        "print(x);\n",
        "x = bytearray(5);\n",
        "print(x);\n",
        "x = memoryview(bytes(5));\n",
        "print(x);"
      ],
      "execution_count": null,
      "outputs": []
    },
    {
      "cell_type": "markdown",
      "metadata": {
        "id": "_DwV0seDGLSe"
      },
      "source": [
        "## boolean types"
      ]
    },
    {
      "cell_type": "code",
      "metadata": {
        "id": "b49wNnbWGKDQ"
      },
      "source": [
        "t = 10 + 9;    # arithmetic - addition\n",
        "print(t);\n",
        "t = 10 - 9;    # arithmetic - subtraction\n",
        "print(t);\n",
        "t = 10 / 9;    # arithmetic - division\n",
        "print(t);\n",
        "t = 7 % 5;    # modulo division = remainder\n",
        "print(t);"
      ],
      "execution_count": null,
      "outputs": []
    },
    {
      "cell_type": "code",
      "metadata": {
        "id": "r34rY3p2ps-q"
      },
      "source": [
        "t = 10 > 9;    # relational operator\n",
        "print(t);\n",
        "\n",
        "t = 10 >= 9;    # relational operator\n",
        "print(t);\n",
        "\n",
        "t = 10 < 9;    # relational operator\n",
        "print(t);\n",
        "\n",
        "t = 10 <= 10;    # relational operator\n",
        "print(t);\n",
        "\n",
        "# = - assignment operator\n",
        "# == - equals operator (comparison)\n",
        "print(15 == 10) # comparison \n",
        "print(10 < 9)"
      ],
      "execution_count": null,
      "outputs": []
    },
    {
      "cell_type": "markdown",
      "metadata": {
        "id": "bqDqBfiIE0od"
      },
      "source": [
        "# Conditional Statement"
      ]
    },
    {
      "cell_type": "code",
      "metadata": {
        "id": "isdVmf4OBb-P"
      },
      "source": [
        "if 10<2:\n",
        "  print('10 is greater');\n",
        "  print('this will also be printed');\n",
        "print('another line to be printed');\n",
        "\n",
        "if 1>22:\n",
        "  print('1 is greater');  \n",
        "\n",
        "  #this will not be executed -> because the expression in the if in Line 6 is false"
      ],
      "execution_count": null,
      "outputs": []
    },
    {
      "cell_type": "code",
      "metadata": {
        "id": "gOZdsRuKsMsN"
      },
      "source": [
        "# gets the input from user and prints accordingly\n",
        "age = int(input(\"Enter your age\"));\n",
        "if age>18:\n",
        "  print('eligble for voting');\n",
        "else:\n",
        "  print('not eligible for voting');\n",
        "print(\"This is a line that will be printed\");"
      ],
      "execution_count": null,
      "outputs": []
    },
    {
      "cell_type": "code",
      "metadata": {
        "id": "2nLwx_ZNGCcn"
      },
      "source": [
        "a = 200;\n",
        "b = 200;\n",
        "\n",
        "# if the expression is true \n",
        "    # the line 8 will be executed\n",
        "# if the expression in line 7 is false\n",
        "    # the line 11 will be executed    \n",
        "if b >= a:\n",
        "  print(\"b is greater than a\");\n",
        "else:\n",
        "  print(\"a is greater than b\");\n",
        "\n",
        "if b <= a:\n",
        "  print(\"b is lesser than a\");\n",
        "else:\n",
        "  print(\"a is lesser than b\");\n",
        "\n",
        "if b == a:\n",
        "  print('a is equal to b');\n",
        "\n",
        "# <, <=, >, >=, ==\n"
      ],
      "execution_count": null,
      "outputs": []
    },
    {
      "cell_type": "markdown",
      "metadata": {
        "id": "2Nl1fxdMGYFP"
      },
      "source": [
        "# Arithmetic Operators\n",
        "\n",
        "Python Arithmetic Operators\n",
        "Arithmetic operators are used with numeric values to perform common mathematical operations:\n",
        "\n",
        "Examples : \n",
        "+\tAddition\tx + y\n",
        "-\tSubtraction\tx - y\n",
        "\n",
        "\n",
        "*\tMultiplication\tx * y\t\n",
        "/\tDivision\tx / y\t\n",
        "%\tModulus\tx % y\t\n",
        "**\tExponentiation\tx ** y\t\n",
        "//\tFloor division\tx // y"
      ]
    },
    {
      "cell_type": "code",
      "metadata": {
        "id": "507BhPMcG-vG"
      },
      "source": [
        "x = 15.45\n",
        "y = 2\n",
        "print (x / y) # division\n",
        "print(x // y) #the floor division // rounds the result down to the nearest whole number\n",
        "\n",
        "print(2 * 5);  # multiplication\n",
        "print(2 ** 5); #same as 2*2*2*2*2\n",
        "\n",
        "print (x + y) # addition\n",
        "print (x - y) # subtraction\n",
        "print (x * y) # multiplication\n",
        "print(x % y)  # remainder is printed"
      ],
      "execution_count": null,
      "outputs": []
    },
    {
      "cell_type": "markdown",
      "metadata": {
        "id": "-VxQ0VprUxYy"
      },
      "source": [
        "# Python Bitwise Operators\n",
        "& \tAND\tSets each bit to 1 if both bits are 1<br/>\n",
        "|\t  OR\tSets each bit to 1 if one of two bits is 1<br/>\n",
        "^\tXOR(Exclusive OR)\tSets each bit to 1 if only one of two bits is 1<br/>\n",
        "~ \tNOT\tInverts all the bits<br/>\n",
        "\"<<\"\tZero fill left shift\tShift left by pushing zeros in from the right and let the leftmost bits fall off<br/>\n",
        "\">>\"\tSigned right shift\tShift right by pushing copies of the leftmost bit in from the left, and let the rightmost bits fall off<br/>"
      ]
    },
    {
      "cell_type": "code",
      "metadata": {
        "id": "QHNDYuFVdEK9"
      },
      "source": [
        "# AND (&)\n",
        "## A B RESULT\n",
        "## 0 0 0 \n",
        "## 1 0 0\n",
        "## 0 1 0\n",
        "## 1 1 1\n",
        "\n",
        "# OR  (|) \n",
        "## A B RESULT\n",
        "## 0 0 0 \n",
        "## 1 0 1\n",
        "## 0 1 1\n",
        "## 1 1 1\n",
        "\n",
        "# XOR\n",
        "## A B RESULT\n",
        "## 0 0 0 \n",
        "## 1 0 1\n",
        "## 0 1 1\n",
        "## 1 1 0\n",
        "\n",
        "# NOT (~)\n",
        "## A RESULT\n",
        "## 1 0\n",
        "## 0 1"
      ],
      "execution_count": null,
      "outputs": []
    },
    {
      "cell_type": "code",
      "metadata": {
        "id": "qcdXxcHuw9kL"
      },
      "source": [
        "# print as binary \n",
        "print(\"{0:b}\".format(2)); # custom format the binary text\n",
        "print(bin(200));     # bin function - to print the value in binary text\n",
        "print(hex(200));    # hex function - to print the value in hexadecimal text"
      ],
      "execution_count": null,
      "outputs": []
    },
    {
      "cell_type": "code",
      "metadata": {
        "id": "ErElWq32wWks"
      },
      "source": [
        "a=2;\n",
        "b=3;\n",
        "print(\"AND\")\n",
        "x = a&b;\n",
        "print(bin(a));\n",
        "print(bin(b));\n",
        "print(\"-----\")\n",
        "print(bin(x));\n",
        "print(x);\n",
        "print(~x);\n",
        "print(bin(~x));\n",
        "print(\"OR\")\n",
        "x = a|b;\n",
        "print(bin(a));\n",
        "print(bin(b));\n",
        "print(\"-----\")\n",
        "print(bin(x));\n",
        "print(x);\n",
        "print(~x);\n",
        "print(bin(~x));\n",
        "print(\"X-OR\")\n",
        "x = a^b;\n",
        "print(bin(a));\n",
        "print(bin(b));\n",
        "print(\"-----\")\n",
        "print(bin(x));\n",
        "print(x);\n",
        "print(~x);\n",
        "print(bin(~x));\n"
      ],
      "execution_count": null,
      "outputs": []
    },
    {
      "cell_type": "markdown",
      "metadata": {
        "id": "ybyIzd9r2Ekl"
      },
      "source": [
        "# Getting input from user"
      ]
    },
    {
      "cell_type": "code",
      "metadata": {
        "id": "uTS8navw19CN"
      },
      "source": [
        "num = int(input(\"Enter a number\"));\n",
        "print(num);"
      ],
      "execution_count": null,
      "outputs": []
    },
    {
      "cell_type": "markdown",
      "metadata": {
        "id": "-YlgNtYLXklT"
      },
      "source": [
        "# Assignment in Python"
      ]
    },
    {
      "cell_type": "code",
      "metadata": {
        "id": "U1mgv1eyToym"
      },
      "source": [
        "x = 5;\n",
        "print(x);"
      ],
      "execution_count": null,
      "outputs": []
    },
    {
      "cell_type": "code",
      "metadata": {
        "id": "p-rV3gnVXiKL"
      },
      "source": [
        "#both are same\n",
        "x=10;\n",
        "x = x+3;\n",
        "x += 3;\n",
        "print(x);\n",
        "x = 5;\n",
        "x -= 3;    #equal to x = x-3;\n",
        "print(x);\n",
        "x *= 3;\n",
        "print(x);\n",
        "x /= 3;\n",
        "print(x);\n",
        "x %= 3;\n",
        "print(x);\n",
        "x=10;\n",
        "x //= 3;\n",
        "print(x);\n",
        "x **= 3\n",
        "print(x);"
      ],
      "execution_count": null,
      "outputs": []
    },
    {
      "cell_type": "code",
      "metadata": {
        "id": "_Orz8pYjXrZZ"
      },
      "source": [
        "x = 5;\n",
        "print(x);\n",
        "y = bin(x);\n",
        "print(y);\n",
        "print(bin(3))\n",
        "x&=3;\n",
        "print(x);\n",
        "x|=3;\n",
        "print(x);\n",
        "x^=3;\n",
        "print(x);"
      ],
      "execution_count": null,
      "outputs": []
    },
    {
      "cell_type": "code",
      "metadata": {
        "id": "mFx8BAoMbRTt"
      },
      "source": [
        "print(\"Left shift\")\n",
        "x=10;\n",
        "print(bin(x))\n",
        "print(\"Before shift\",x);\n",
        "x >>= 1;    #equals to x = x >> 1;\n",
        "print(bin(x))\n",
        "print(\"After shift\",x);\n",
        "\n",
        "print(\"Right shift\")\n",
        "x=10;\n",
        "print(bin(x))\n",
        "print(\"Before shift\",x);\n",
        "x <<= 1;    #equals to x = x << 1;\n",
        "print(bin(x))\n",
        "print(\"After shift\",x);"
      ],
      "execution_count": null,
      "outputs": []
    },
    {
      "cell_type": "markdown",
      "metadata": {
        "id": "qvRJEcWgMzSW"
      },
      "source": [
        "# Python - List"
      ]
    },
    {
      "cell_type": "code",
      "metadata": {
        "id": "db69SxdSWJSR",
        "colab": {
          "base_uri": "https://localhost:8080/"
        },
        "outputId": "24523c0a-0b98-4022-ee6e-fb57ca4c3d9e"
      },
      "source": [
        "print(\" lists \")\n",
        "list1 = ['physics', 'chemistry', 1997, 2000]; \n",
        "print(list1[2])\n",
        "print(list1[0])\n",
        "print(list1);\n",
        "list1[2]='computer'\n",
        "list1.append(\"maths\");\n",
        "print(list1);\n",
        "list2 = [1, 2, 3, 4, 5 ]; \n",
        "list3 = [\"a\", \"b\", \"c\", \"d\"]\n",
        "print(list1)\n",
        "list1 = [ 'abcd', 786 , 2.23, 'john', 70.2 ] \n",
        "print(\"The list with many type of values\", list1)\n",
        "tinylist = [123, 'john'] \n",
        "#index starts with 0\n",
        "print(list1) # Prints complete list1 \n",
        "print(list1[0]) # Prints first element of the list \n",
        "print(list1[1:3]) # Prints elements starting from 2nd till 3rd \n",
        "print(list1[2:]) # Prints elements starting from 3rd element \n",
        "print(tinylist * 2) # Prints list two times \n",
        "print(list1 + tinylist) #Prints concatenated lists"
      ],
      "execution_count": null,
      "outputs": [
        {
          "output_type": "stream",
          "text": [
            " lists \n",
            "1997\n",
            "physics\n",
            "['physics', 'chemistry', 1997, 2000]\n",
            "['physics', 'chemistry', 'computer', 2000, 'maths']\n",
            "['physics', 'chemistry', 'computer', 2000, 'maths']\n",
            "The list with many type of values ['abcd', 786, 2.23, 'john', 70.2]\n",
            "['abcd', 786, 2.23, 'john', 70.2]\n",
            "abcd\n",
            "[786, 2.23]\n",
            "[2.23, 'john', 70.2]\n",
            "[123, 'john', 123, 'john']\n",
            "['abcd', 786, 2.23, 'john', 70.2, 123, 'john']\n"
          ],
          "name": "stdout"
        }
      ]
    },
    {
      "cell_type": "code",
      "metadata": {
        "colab": {
          "base_uri": "https://localhost:8080/"
        },
        "id": "izoeTSqKMcSm",
        "outputId": "2248ec0d-e763-42e6-bcfe-644343d6c607"
      },
      "source": [
        "list1 = list((\"Beta\",\"Alpha\"));\n",
        "print(list1);\n",
        "list1.sort();\n",
        "print(list1);\n",
        "list1.remove(\"Alpha\");  # remove by specifying the value\n",
        "print(list1);\n",
        "list1.insert(0,\"ABC\");  # 0 - 0th index\n",
        "list1.insert(2,\"XYZ\");  # 2 - 2nd index\n",
        "list1.insert(-1,\"PQR\"); # -1 - before the last element\n",
        "print(list1);\n",
        "\n",
        "list1.insert(0,[\"A\",\"B\",\"C\",\"D\"]);  # add a list to the list \n",
        "print(list1);\n",
        "\n",
        "list1.pop(0);        # remove by specifying the index\n",
        "print(list1);\n",
        "\n",
        "del list1[1];        # remove by specifying the value\n",
        "print(list1);\n",
        "\n",
        "print(list1[2]);\n",
        "list1.reverse();# reverse the elements in the list\n",
        "print(list1);   \n",
        "\n",
        "#list1.clear();  #clear the list\n",
        "#print(list1);"
      ],
      "execution_count": null,
      "outputs": [
        {
          "output_type": "stream",
          "text": [
            "['Beta', 'Alpha']\n",
            "['Alpha', 'Beta']\n",
            "['Beta']\n",
            "['ABC', 'Beta', 'PQR', 'XYZ']\n",
            "[['A', 'B', 'C', 'D'], 'ABC', 'Beta', 'PQR', 'XYZ']\n",
            "['ABC', 'Beta', 'PQR', 'XYZ']\n",
            "['ABC', 'PQR', 'XYZ']\n",
            "XYZ\n",
            "['XYZ', 'PQR', 'ABC']\n"
          ],
          "name": "stdout"
        }
      ]
    },
    {
      "cell_type": "code",
      "metadata": {
        "colab": {
          "base_uri": "https://localhost:8080/"
        },
        "id": "-CpjMrWfK-uX",
        "outputId": "10807fe3-ee77-4a68-c1ad-a7e22c8897ab"
      },
      "source": [
        "for x in list1:\n",
        "  print(x);"
      ],
      "execution_count": null,
      "outputs": [
        {
          "output_type": "stream",
          "text": [
            "XYZ\n",
            "PQR\n",
            "ABC\n"
          ],
          "name": "stdout"
        }
      ]
    },
    {
      "cell_type": "code",
      "metadata": {
        "colab": {
          "base_uri": "https://localhost:8080/"
        },
        "id": "FNHS7GUrLR52",
        "outputId": "2a327864-4461-4531-85a1-cbd83be28b7e"
      },
      "source": [
        "var1 = int(input(\"Enter the starting number\"));\n",
        "var2 = int(input(\"Enter the end number\"));\n",
        "\n",
        "list2 = range(var1,var2);\n",
        "sum=0;\n",
        "print(\"The size of the list : \", len(list2));\n",
        "print(\"The given elements are :\")\n",
        "for x in list2:\n",
        "  print(x);\n",
        "\n",
        "print(\"Calculation step :\")\n",
        "for x in list2:\n",
        "  sum=sum+x;\n",
        "  print(\"Now sum = \",sum);\n",
        "\n",
        "print(\"Result : \")\n",
        "print(\"Finally, the sum of numbers \",sum);"
      ],
      "execution_count": null,
      "outputs": [
        {
          "output_type": "stream",
          "text": [
            "Enter the starting number0\n",
            "Enter the end number20\n",
            "The size of the list :  20\n",
            "The given elements are :\n",
            "0\n",
            "1\n",
            "2\n",
            "3\n",
            "4\n",
            "5\n",
            "6\n",
            "7\n",
            "8\n",
            "9\n",
            "10\n",
            "11\n",
            "12\n",
            "13\n",
            "14\n",
            "15\n",
            "16\n",
            "17\n",
            "18\n",
            "19\n",
            "Calculation step :\n",
            "Now sum =  0\n",
            "Now sum =  1\n",
            "Now sum =  3\n",
            "Now sum =  6\n",
            "Now sum =  10\n",
            "Now sum =  15\n",
            "Now sum =  21\n",
            "Now sum =  28\n",
            "Now sum =  36\n",
            "Now sum =  45\n",
            "Now sum =  55\n",
            "Now sum =  66\n",
            "Now sum =  78\n",
            "Now sum =  91\n",
            "Now sum =  105\n",
            "Now sum =  120\n",
            "Now sum =  136\n",
            "Now sum =  153\n",
            "Now sum =  171\n",
            "Now sum =  190\n",
            "Result : \n",
            "Finally, the sum of numbers  190\n"
          ],
          "name": "stdout"
        }
      ]
    },
    {
      "cell_type": "code",
      "metadata": {
        "id": "L4NjqN7jOak2"
      },
      "source": [
        "print(\"Calculation step :\")\n",
        "res=0;\n",
        "for x in list2:\n",
        "  sum=x*x;\n",
        "  res+=x*x;\n",
        "  print(\"Now sum = \",sum);\n",
        "  print(\"Currently res = \",res);\n",
        "\n",
        "print(\"Result : \")\n",
        "print(\"Finally, the sum of numbers \",res);"
      ],
      "execution_count": null,
      "outputs": []
    },
    {
      "cell_type": "code",
      "metadata": {
        "colab": {
          "base_uri": "https://localhost:8080/"
        },
        "id": "-JTJ2RQoPgIx",
        "outputId": "f56c2d2b-0113-45b6-d2f4-d7b782f82219"
      },
      "source": [
        "print(\"Print using while loop\");\n",
        "res=0;\n",
        "sum=0;\n",
        "i=0;\n",
        "size = len(list2); # get the number of elements and store in size\n",
        "while i<size:      # while the value of i is lesser than the number of elements in the list\n",
        "  x = list2[i];\n",
        "  sum=x*x;\n",
        "  res+=x*x;\n",
        "  print(\"Now sum = \",sum);\n",
        "  print(\"Currently res = \",res);\n",
        "  i=i+1;\n",
        "\n",
        "print(\"The sum of numbers using while loop : \",res);"
      ],
      "execution_count": null,
      "outputs": [
        {
          "output_type": "stream",
          "text": [
            "Print using while loop\n",
            "Now sum =  0\n",
            "Currently res =  0\n",
            "Now sum =  1\n",
            "Currently res =  1\n",
            "Now sum =  4\n",
            "Currently res =  5\n",
            "Now sum =  9\n",
            "Currently res =  14\n",
            "Now sum =  16\n",
            "Currently res =  30\n",
            "Now sum =  25\n",
            "Currently res =  55\n",
            "Now sum =  36\n",
            "Currently res =  91\n",
            "Now sum =  49\n",
            "Currently res =  140\n",
            "Now sum =  64\n",
            "Currently res =  204\n",
            "Now sum =  81\n",
            "Currently res =  285\n",
            "Now sum =  100\n",
            "Currently res =  385\n",
            "Now sum =  121\n",
            "Currently res =  506\n",
            "Now sum =  144\n",
            "Currently res =  650\n",
            "Now sum =  169\n",
            "Currently res =  819\n",
            "Now sum =  196\n",
            "Currently res =  1015\n",
            "Now sum =  225\n",
            "Currently res =  1240\n",
            "Now sum =  256\n",
            "Currently res =  1496\n",
            "Now sum =  289\n",
            "Currently res =  1785\n",
            "Now sum =  324\n",
            "Currently res =  2109\n",
            "Now sum =  361\n",
            "Currently res =  2470\n",
            "2470\n"
          ],
          "name": "stdout"
        }
      ]
    },
    {
      "cell_type": "code",
      "metadata": {
        "colab": {
          "base_uri": "https://localhost:8080/"
        },
        "id": "U8iMSuFlRjnp",
        "outputId": "04ded91d-beee-4105-80ac-b90f0eb933c6"
      },
      "source": [
        "fruits = [\"apple\", \"mango\", \"banana\"]\n",
        "[print(x) for x in fruits]\n",
        "\n",
        "for x in fruits:\n",
        "  print(x);"
      ],
      "execution_count": null,
      "outputs": [
        {
          "output_type": "stream",
          "text": [
            "apple\n",
            "mango\n",
            "banana\n",
            "apple\n",
            "mango\n",
            "banana\n"
          ],
          "name": "stdout"
        }
      ]
    },
    {
      "cell_type": "code",
      "metadata": {
        "colab": {
          "base_uri": "https://localhost:8080/"
        },
        "id": "gxj6h2bXWzp7",
        "outputId": "fb03bf9e-cac7-49f4-e3de-e4e7b9243478"
      },
      "source": [
        "newlist = [x for x in fruits if x != \"apple\"]\n",
        "print(newlist)"
      ],
      "execution_count": null,
      "outputs": [
        {
          "output_type": "stream",
          "text": [
            "['mango', 'banana']\n"
          ],
          "name": "stdout"
        }
      ]
    },
    {
      "cell_type": "markdown",
      "metadata": {
        "id": "_zapjDvcNKSu"
      },
      "source": [
        "# Python - Array"
      ]
    },
    {
      "cell_type": "code",
      "metadata": {
        "id": "nteWbR1WWtCm"
      },
      "source": [
        "print(\"array\")\n",
        "\n",
        "from array import *  #import array\n",
        "array1 = array('i', [10,20,30,40,50]) \n",
        "for x in array1:\n",
        "    print(x)\n",
        "print(\"insert new element\")\n",
        "array1.insert(1,60)\n",
        "print(\" search for a numbers index\")\n",
        "print (array1.index(40))\n",
        "print(\"delete\")\n",
        "array1.remove(40)\n",
        "for x in array1:\n",
        "    print(x)\n",
        "print(\"update existing record\")\n",
        "array1[2] = 80\n",
        "for x in array1:\n",
        "    print(x) \n",
        "print(\"Two dimensional arrays\")\n",
        "#two dimensional array \n",
        "from array import * \n",
        "T = [[11,12,5,2], [15,6,1, 0], [10, 8,12, 5], [12,15, 8, 6]] "
      ],
      "execution_count": null,
      "outputs": []
    },
    {
      "cell_type": "code",
      "metadata": {
        "id": "z923Or0BNydj"
      },
      "source": [
        "print(T[0]) # prints 11 12 5 2\n",
        "print(T[1][2]) # prints 1\n",
        "for r in T:\n",
        "    for c in r:\n",
        "        print(c)\n",
        "print(\"\\n\")\n",
        "    \n",
        "for r in T:\n",
        "    for c in r:\n",
        "        print(c)\n",
        "    print()"
      ],
      "execution_count": null,
      "outputs": []
    },
    {
      "cell_type": "markdown",
      "metadata": {
        "id": "85uxpGARSrCR"
      },
      "source": [
        "# Python - Functions\n",
        "It creates a subprocedure that can be called whenever required in the program"
      ]
    },
    {
      "cell_type": "code",
      "metadata": {
        "id": "gLeGEPjCSp8V"
      },
      "source": [
        "#define the function\n",
        "#function 1\n",
        "def callme():        # function with no arguments\n",
        "    print(\"welcome to functions\");\n",
        "    \n",
        "\n",
        "#function 2\n",
        "def add(val1,val2):  # function with two arguments\n",
        "    print(val1+val2);"
      ],
      "execution_count": null,
      "outputs": []
    },
    {
      "cell_type": "code",
      "metadata": {
        "colab": {
          "base_uri": "https://localhost:8080/"
        },
        "id": "0jpAJfwkawQm",
        "outputId": "f2cf1d52-f971-45b9-e3e0-bd2aa487474d"
      },
      "source": [
        "callme();  #call the function callme\n",
        "add(23,45.45); # call the function add and pass two values "
      ],
      "execution_count": null,
      "outputs": [
        {
          "output_type": "stream",
          "text": [
            "welcome to functions\n",
            "68.45\n"
          ],
          "name": "stdout"
        }
      ]
    },
    {
      "cell_type": "code",
      "metadata": {
        "id": "ejSNs_oGbSJ7"
      },
      "source": [
        "#function 3\n",
        "def welcome(name, company):\n",
        "  print(\"My name is\", name);\n",
        "  print(\"I work in\", company);\n"
      ],
      "execution_count": null,
      "outputs": []
    },
    {
      "cell_type": "code",
      "metadata": {
        "colab": {
          "base_uri": "https://localhost:8080/"
        },
        "id": "jizp6W5mbdIa",
        "outputId": "4881b999-8d50-460e-d718-e2e28266f1c9"
      },
      "source": [
        "welcome(\"Manikandan\",\"Caterpillar\")\n",
        "welcome(\"Dr. Benjamin\", \"K. R. College\")"
      ],
      "execution_count": null,
      "outputs": [
        {
          "output_type": "stream",
          "text": [
            "My name is Manikandan\n",
            "I work in Caterpillar\n",
            "My name is Dr. Benjamin\n",
            "I work in K. R. College\n"
          ],
          "name": "stdout"
        }
      ]
    },
    {
      "cell_type": "code",
      "metadata": {
        "id": "QA_nhUlGcNWe"
      },
      "source": [
        "def vote(name,age):\n",
        "  print(\"Welcome\", name);\n",
        "  if age>18:\n",
        "    print(\"You can cast your vote now!\");\n",
        "  else:\n",
        "    print(\"You cannot vote\");"
      ],
      "execution_count": null,
      "outputs": []
    },
    {
      "cell_type": "code",
      "metadata": {
        "colab": {
          "base_uri": "https://localhost:8080/"
        },
        "id": "kOA0q2dAcr3s",
        "outputId": "01a14f9e-d06c-4fa0-a5ae-ca96a17ba5f7"
      },
      "source": [
        "vote(\"U. Manikandan\",14);\n",
        "vote(\"V. Manikandan\",54);"
      ],
      "execution_count": null,
      "outputs": [
        {
          "output_type": "stream",
          "text": [
            "Welcome U. Manikandan\n",
            "You cannot vote\n",
            "Welcome V. Manikandan\n",
            "You can cast your vote now!\n"
          ],
          "name": "stdout"
        }
      ]
    },
    {
      "cell_type": "code",
      "metadata": {
        "id": "mexoaTcZdAQ4"
      },
      "source": [
        "list2 = [];   # create an empty list\n",
        "def createList(): # function with no argument\n",
        "  var1 = int(input(\"Enter the starting number\")); #get first number\n",
        "  var2 = int(input(\"Enter the end number\")); #get second number\n",
        "  list2 = range(var1,var2);   # create a range from the values\n",
        "  #print the elements created\n",
        "  print(\"The given elements are :\");\n",
        "  for x in list2:\n",
        "    print(x);"
      ],
      "execution_count": null,
      "outputs": []
    },
    {
      "cell_type": "code",
      "metadata": {
        "colab": {
          "base_uri": "https://localhost:8080/"
        },
        "id": "OxQA7xp3dtqO",
        "outputId": "2b2fe611-8d28-4af8-bf91-120937ee4978"
      },
      "source": [
        "createList();"
      ],
      "execution_count": null,
      "outputs": [
        {
          "output_type": "stream",
          "text": [
            "Enter the starting number5\n",
            "Enter the end number9\n",
            "The given elements are :\n",
            "5\n",
            "6\n",
            "7\n",
            "8\n"
          ],
          "name": "stdout"
        }
      ]
    },
    {
      "cell_type": "code",
      "metadata": {
        "colab": {
          "base_uri": "https://localhost:8080/"
        },
        "id": "Sxo1pkypgQ5W",
        "outputId": "8bb93de9-ec15-487e-b55b-0548e0516978"
      },
      "source": [
        "def createName(fname,lname):\n",
        "  print(\"Full name is \", fname + \" \" + lname); #string concatenation\n",
        "\n",
        "createName(\"Benjamin\", \"David\")\n",
        "createName(\"David\",\"Benjamin\")"
      ],
      "execution_count": null,
      "outputs": [
        {
          "output_type": "stream",
          "text": [
            "Full name is  Benjamin David\n",
            "Full name is  David Benjamin\n"
          ],
          "name": "stdout"
        }
      ]
    },
    {
      "cell_type": "markdown",
      "metadata": {
        "id": "UGOlQ0zopZt0"
      },
      "source": [
        "## Parameter specification while giving input to the function"
      ]
    },
    {
      "cell_type": "code",
      "metadata": {
        "colab": {
          "base_uri": "https://localhost:8080/"
        },
        "id": "mxVRDAk-gmw9",
        "outputId": "85dbd4f4-b368-4dec-d29c-6821d5528467"
      },
      "source": [
        " createName(lname='David', fname='Benjamin') # explictly specify the function arguments"
      ],
      "execution_count": null,
      "outputs": [
        {
          "output_type": "stream",
          "text": [
            "Full name is  Benjamin David\n"
          ],
          "name": "stdout"
        }
      ]
    },
    {
      "cell_type": "markdown",
      "metadata": {
        "id": "ShDVMdiziqXX"
      },
      "source": [
        "## functions that returns a value\n",
        "A function can process some information and return a particular value to the calling location. Such a function can be seen here."
      ]
    },
    {
      "cell_type": "code",
      "metadata": {
        "colab": {
          "base_uri": "https://localhost:8080/"
        },
        "id": "3pVHnFTxh9jM",
        "outputId": "2c288632-f0de-485d-d888-228099ab17b7"
      },
      "source": [
        "def canVote(age):\n",
        "  if age>18:\n",
        "    return True;\n",
        "  else:\n",
        "    return False;\n",
        "\n",
        "if(canVote(29)):\n",
        "  print(\"Can vote\");\n",
        "else:\n",
        "  print(\"Cannot vote\");"
      ],
      "execution_count": null,
      "outputs": [
        {
          "output_type": "stream",
          "text": [
            "Can vote\n"
          ],
          "name": "stdout"
        }
      ]
    },
    {
      "cell_type": "code",
      "metadata": {
        "colab": {
          "base_uri": "https://localhost:8080/"
        },
        "id": "Eeh4piygr2g0",
        "outputId": "fd212f88-f56d-4077-ea72-8d7b12434ad9"
      },
      "source": [
        "## all these functions get two numbers and processes them. Finally returns the result.\n",
        "def add(a,b):\n",
        "  return a+b;\n",
        "def sub(a,b):\n",
        "  return a-b; \n",
        "def mul(a,b):\n",
        "  return a*b;  \n",
        "def div(a,b):\n",
        "  return a/b; \n",
        "\n",
        "a = int(input(\"Enter first number :\"));\n",
        "b = int(input(\"Enter second number :\"));\n",
        "\n",
        "print(\"Addition = \",add(a,b));\n",
        "print(\"Subtraction = \",sub(a,b));\n",
        "print(\"Multiplication = \",mul(a,b));\n",
        "print(\"Divison =  \",div(a,b));"
      ],
      "execution_count": null,
      "outputs": [
        {
          "output_type": "stream",
          "text": [
            "Enter first number :8\n",
            "Enter second number :5\n",
            "Addition =  13\n",
            "Subtraction =  3\n",
            "Multiplication =  40\n",
            "Divison =   1.6\n"
          ],
          "name": "stdout"
        }
      ]
    },
    {
      "cell_type": "markdown",
      "metadata": {
        "id": "nZkbVDQqraMt"
      },
      "source": [
        "## Default parameter values in functions\n",
        "If we call a function without giving any parameter values, it might throw an error saying \"#2 parameter is not given\". Hence, default parameter values can be given to function to avoid such issues."
      ]
    },
    {
      "cell_type": "code",
      "metadata": {
        "id": "321elkZIphmM"
      },
      "source": [
        "def createName(saluation, firstname, middlename = \"\", lastname =\"\"):\n",
        "  fname = saluation +\". \"+ firstname+\" \"+middlename+\" \"+lastname;\n",
        "  return fname;"
      ],
      "execution_count": null,
      "outputs": []
    },
    {
      "cell_type": "code",
      "metadata": {
        "colab": {
          "base_uri": "https://localhost:8080/"
        },
        "id": "EtnbQgg-p51F",
        "outputId": "33f9f11e-1a09-4327-a270-48b7ccfbcd99"
      },
      "source": [
        "fullname = createName(\"Dr\",\"Benjamin\",\"Fredrick\",\"David\");\n",
        "print(fullname);"
      ],
      "execution_count": null,
      "outputs": [
        {
          "output_type": "stream",
          "text": [
            "Dr. Benjamin Fredrick David\n"
          ],
          "name": "stdout"
        }
      ]
    },
    {
      "cell_type": "code",
      "metadata": {
        "colab": {
          "base_uri": "https://localhost:8080/"
        },
        "id": "O0Wkc5mUqZlf",
        "outputId": "8798a173-3c88-4e98-d7d1-4ebd5be30834"
      },
      "source": [
        "fullname = createName(\"Mr\",\"Manikandan\",\"Alagesan\");\n",
        "print(fullname);"
      ],
      "execution_count": null,
      "outputs": [
        {
          "output_type": "stream",
          "text": [
            "Mr. Manikandan Alagesan \n"
          ],
          "name": "stdout"
        }
      ]
    },
    {
      "cell_type": "markdown",
      "metadata": {
        "id": "CTBF_tTJmOSd"
      },
      "source": [
        "## Function that gets the list as argument"
      ]
    },
    {
      "cell_type": "code",
      "metadata": {
        "id": "HzzC8lPxl5-5"
      },
      "source": [
        "# this function gets the parameter as a list\n",
        "def print_list(listx): #listx - list variable\n",
        "  for i in listx:\n",
        "    print(i);"
      ],
      "execution_count": null,
      "outputs": []
    },
    {
      "cell_type": "code",
      "metadata": {
        "colab": {
          "base_uri": "https://localhost:8080/"
        },
        "id": "MD1jAcL_maXe",
        "outputId": "7201df09-c1a6-4c40-c1a7-d6025c13bee3"
      },
      "source": [
        "var = [\"apple\",\"mango\",\"banana\"];\n",
        "var2 = [3,5,6,4,\"sample\",7.64]\n",
        "print_list(var);\n",
        "print_list(var2);"
      ],
      "execution_count": null,
      "outputs": [
        {
          "output_type": "stream",
          "text": [
            "apple\n",
            "mango\n",
            "banana\n",
            "3\n",
            "5\n",
            "6\n",
            "4\n",
            "sample\n",
            "7.64\n"
          ],
          "name": "stdout"
        }
      ]
    },
    {
      "cell_type": "markdown",
      "metadata": {
        "id": "5HCtIhivk_RM"
      },
      "source": [
        "# Arbitrary Argument \n",
        "These can specified by using *variable inside the parameters of the function\n",
        "<br/>\n",
        "<code>\n",
        "def fun(*var): # *var => can hold many parameters\n",
        "</code>"
      ]
    },
    {
      "cell_type": "code",
      "metadata": {
        "id": "B7EWqqIakXbK"
      },
      "source": [
        "# if we don't know how many parameters the user will give\n",
        "def sample_fun(*fruits):\n",
        "  print(\"The second fruit is \" + fruits[2]);"
      ],
      "execution_count": null,
      "outputs": []
    },
    {
      "cell_type": "code",
      "metadata": {
        "colab": {
          "base_uri": "https://localhost:8080/"
        },
        "id": "fsEtge24k7Da",
        "outputId": "437df518-00fe-46ea-9927-91cab881b235"
      },
      "source": [
        "sample_fun(\"apple\",\"mango\",\"banana\");"
      ],
      "execution_count": null,
      "outputs": [
        {
          "output_type": "stream",
          "text": [
            "The second fruit is banana\n"
          ],
          "name": "stdout"
        }
      ]
    },
    {
      "cell_type": "code",
      "metadata": {
        "id": "67Ns8WfWnkkb"
      },
      "source": [
        "# this function gets the parameter as a list\n",
        "def getFruits(*listx):\n",
        "  print(\"The fruits given are :\")\n",
        "  for i in listx:\n",
        "    print(i);"
      ],
      "execution_count": null,
      "outputs": []
    },
    {
      "cell_type": "code",
      "metadata": {
        "colab": {
          "base_uri": "https://localhost:8080/"
        },
        "id": "qjYRBqVonxjd",
        "outputId": "277af093-0b64-4ce1-b361-91824b3de217"
      },
      "source": [
        "# Function that gets 6 arguments/ parameters\n",
        "getFruits(\"apple\", \"papaya\", \"mango\", \"banana\", \"grapes\", \"orange\");"
      ],
      "execution_count": null,
      "outputs": [
        {
          "output_type": "stream",
          "text": [
            "The fruits given are :\n",
            "apple\n",
            "papaya\n",
            "mango\n",
            "banana\n",
            "grapes\n",
            "orange\n"
          ],
          "name": "stdout"
        }
      ]
    },
    {
      "cell_type": "code",
      "metadata": {
        "colab": {
          "base_uri": "https://localhost:8080/"
        },
        "id": "Emyjz-aetXmS",
        "outputId": "dc12fa14-474c-42cf-de48-f0219556f7fb"
      },
      "source": [
        "\n",
        "def studentResult(name,sub1, sub2, sub3):\n",
        "  print(\"Student Name    : \", name);\n",
        "  print(\"Subject 1 Mark  : \", sub1);\n",
        "  print(\"Subject 2 Mark  : \", sub2);\n",
        "  print(\"Subject 3 Mark  : \", sub3);\n",
        "  total = sub1+sub2+sub3;\n",
        "  print(\"Total marks     : \", total);\n",
        "  average = total/3;\n",
        "  print(\"Student Average : \", average);\n",
        "  # if the student's average is above 35 then return True or return False\n",
        "  if average >35:\n",
        "    return True;\n",
        "  else:\n",
        "    return False;\n",
        "\n",
        "#result = studentResult(\"Benjamin\",66,34,76);\n",
        "if studentResult(\"Benjamin\",6,3,16):\n",
        "  print(\"The student has passed the exam\");\n",
        "else:\n",
        "  print(\"The student has failed in the exam\");\n"
      ],
      "execution_count": null,
      "outputs": [
        {
          "output_type": "stream",
          "text": [
            "Student Name    :  Benjamin\n",
            "Subject 1 Mark  :  6\n",
            "Subject 2 Mark  :  3\n",
            "Subject 3 Mark  :  16\n",
            "Total marks     :  25\n",
            "Student Average :  8.333333333333334\n",
            "The student has failed in the exam\n"
          ],
          "name": "stdout"
        }
      ]
    },
    {
      "cell_type": "code",
      "metadata": {
        "id": "HGiWQd0jvJS1",
        "colab": {
          "base_uri": "https://localhost:8080/"
        },
        "outputId": "eff98f27-c12c-42c6-b9ae-601cfb0cc0c9"
      },
      "source": [
        "studentResult(\"Benjamin\",6,3,16)"
      ],
      "execution_count": null,
      "outputs": [
        {
          "output_type": "stream",
          "text": [
            "Student Name    :  Benjamin\n",
            "Subject 1 Mark  :  6\n",
            "Subject 2 Mark  :  3\n",
            "Subject 3 Mark  :  16\n",
            "Total marks     :  25\n",
            "Student Average :  8.333333333333334\n"
          ],
          "name": "stdout"
        },
        {
          "output_type": "execute_result",
          "data": {
            "text/plain": [
              "False"
            ]
          },
          "metadata": {
            "tags": []
          },
          "execution_count": 135
        }
      ]
    }
  ]
}