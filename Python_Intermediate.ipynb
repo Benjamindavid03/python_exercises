{
  "nbformat": 4,
  "nbformat_minor": 0,
  "metadata": {
    "colab": {
      "name": "Python_Intermediate.ipynb",
      "provenance": [],
      "collapsed_sections": [],
      "toc_visible": true,
      "authorship_tag": "ABX9TyP5Iy2ReucKvey4VdhDBvuO",
      "include_colab_link": true
    },
    "kernelspec": {
      "name": "python3",
      "display_name": "Python 3"
    },
    "language_info": {
      "name": "python"
    }
  },
  "cells": [
    {
      "cell_type": "markdown",
      "metadata": {
        "id": "view-in-github",
        "colab_type": "text"
      },
      "source": [
        "<a href=\"https://colab.research.google.com/github/Benjamindavid03/python_exercises/blob/main/Python_Intermediate.ipynb\" target=\"_parent\"><img src=\"https://colab.research.google.com/assets/colab-badge.svg\" alt=\"Open In Colab\"/></a>"
      ]
    },
    {
      "cell_type": "markdown",
      "metadata": {
        "id": "VW4Vhn9Ein_Y"
      },
      "source": [
        "# Functions in Python contd.\n",
        "## Default Parameter value\n",
        "If we call a function without giving any argument value, then the default value will be used."
      ]
    },
    {
      "cell_type": "code",
      "metadata": {
        "id": "iVVbDgOShy9Y"
      },
      "source": [
        "def eat(fruit = \"grapes\"):\n",
        "  print(\"I want to eat\", fruit);"
      ],
      "execution_count": null,
      "outputs": []
    },
    {
      "cell_type": "code",
      "metadata": {
        "colab": {
          "base_uri": "https://localhost:8080/"
        },
        "id": "-_nOAQB0iFsS",
        "outputId": "0b97b738-8f26-4bc9-caad-7a473254259d"
      },
      "source": [
        "# error will not be thrown\n",
        "eat(\"mango\"); # fruit is passed\n",
        "#error will be thrown\n",
        "eat(); # error will be thrown if not given default value\n",
        "#eat(input(\"Enter the fruit name\"));"
      ],
      "execution_count": null,
      "outputs": [
        {
          "output_type": "stream",
          "text": [
            "I want to eat mango\n",
            "I want to eat grapes\n"
          ],
          "name": "stdout"
        }
      ]
    },
    {
      "cell_type": "markdown",
      "metadata": {
        "id": "tSqmvdbgkkR6"
      },
      "source": [
        "## Pass statement\n",
        "If we want to have certain functions,<br/>\n",
        "But, we don't want to give empty functions as they will throw an error. <br/>\n",
        "<br/>\n",
        "<u>We can give a function definition without any content using the pass statement within the function.</u>"
      ]
    },
    {
      "cell_type": "code",
      "metadata": {
        "id": "pXsPqIf9ictZ"
      },
      "source": [
        "def calculateGrade():\n",
        "  pass;\n",
        "\n",
        "def calculateAge():\n",
        "  pass;"
      ],
      "execution_count": null,
      "outputs": []
    },
    {
      "cell_type": "code",
      "metadata": {
        "id": "TrOTIZhtke3O"
      },
      "source": [
        "calculateAge();"
      ],
      "execution_count": null,
      "outputs": []
    },
    {
      "cell_type": "markdown",
      "metadata": {
        "id": "r30nsxB2lNeW"
      },
      "source": [
        "## Recursion\n",
        "\n",
        "A function that needs to be called again and again by the same function."
      ]
    },
    {
      "cell_type": "code",
      "metadata": {
        "id": "CpxL3FkmlaWD"
      },
      "source": [
        "# we need to call count inside of the count\n",
        "def count(k): \n",
        "  if(k>0): #check if k is greater than 0\n",
        "    sum = k + count(k-1);  # sum = k + call the function again with param {k-1}\n",
        "    # count is a recursive function\n",
        "    print(\"k=\",k);\n",
        "    print(\"sum=\",sum);\n",
        "  else:\n",
        "    sum=0;\n",
        "  return sum;\n",
        "\n",
        "v = int(input(\"Enter number :\"));\n",
        "sum = count(v);\n",
        "print(\"The total sum is \",sum);"
      ],
      "execution_count": null,
      "outputs": []
    },
    {
      "cell_type": "markdown",
      "metadata": {
        "id": "ZuBBFLgpwMBW"
      },
      "source": [
        "## Lambda Functions\n",
        "A lambda function is a small function that is anonymous and can be simple<br/>\n",
        "<b>SYNTAX  :</b>\n",
        "<code>\n",
        " fun = lambda arguments : expression\n",
        "</code>"
      ]
    },
    {
      "cell_type": "code",
      "metadata": {
        "id": "g61t_oVAwX9G"
      },
      "source": [
        "# ordinary functions\n",
        "def x1(q):\n",
        "  return q*q;\n",
        "\n",
        "def sum1(a,b):\n",
        "  return a+b;"
      ],
      "execution_count": null,
      "outputs": []
    },
    {
      "cell_type": "code",
      "metadata": {
        "id": "hegNRIFMyVI4"
      },
      "source": [
        "#lambda functions\n",
        "x2 = lambda q : q*q;\n",
        "sum2 = lambda a,b : a+b;\n",
        "print(x1(3))     #calling function\n",
        "print(x2(3))     #calling lambda function\n",
        "print(sum1(3,2)) #calling function\n",
        "print(sum2(3,1)) #calling lambda function"
      ],
      "execution_count": null,
      "outputs": []
    },
    {
      "cell_type": "code",
      "metadata": {
        "colab": {
          "base_uri": "https://localhost:8080/"
        },
        "id": "Sq3UniGvyYg-",
        "outputId": "5d01b611-6d12-49e4-b091-a10943c01875"
      },
      "source": [
        "area_rect = lambda l,b : l*b;\n",
        "area_square = lambda s : s*s;\n",
        "\n",
        "print(\"Area of rectangle \", area_rect(3,2));\n",
        "print(\"Area of square \", area_square(10));"
      ],
      "execution_count": null,
      "outputs": [
        {
          "output_type": "stream",
          "text": [
            "Area of rectangle  6\n",
            "Area of square  100\n"
          ],
          "name": "stdout"
        }
      ]
    },
    {
      "cell_type": "markdown",
      "metadata": {
        "id": "j2IjnTSnIz5-"
      },
      "source": [
        "# Object Oriented Programming\n",
        "1. Everything around us can be modelled and programmed using OOP\n",
        "2. Every object has a set of properties and methods\n",
        "\n",
        "We create a template for object and then use those for our program"
      ]
    },
    {
      "cell_type": "markdown",
      "metadata": {
        "id": "T8sz467hKIBX"
      },
      "source": [
        "## Class\n",
        "A class is like a template for an object. In other words, a class is a \"blueprint\" for creating an object"
      ]
    },
    {
      "cell_type": "code",
      "metadata": {
        "colab": {
          "base_uri": "https://localhost:8080/"
        },
        "id": "MOKmzubEI7hl",
        "outputId": "ffcbc2b8-bbdc-4f10-bdb8-137a148b5ccc"
      },
      "source": [
        "#creating a class for Human\n",
        "class Human:\n",
        "  height=5;  #property 1\n",
        "  weight=56; #property 2\n",
        "  name=\"No name\"; # property 3\n",
        "\n",
        "  #constructor - a method that is called when the \n",
        "  #              instance of the object is created\n",
        "  def __init__(self):\n",
        "    print(\"Constructor called\"); #a constructor will be called when an instance\n",
        "                                 #of the object is created\n",
        "\n",
        "  #ShowDetail - a method called to print all the details of the object\n",
        "  def ShowDetail(self): #self refers to the instance of the called object\n",
        "    print(\"The Details are:\");\n",
        "    print(\"Name :\",self.name);\n",
        "    print(\"Weight :\",self.weight);\n",
        "    print(\"Height :\",self.height);\n",
        "\n",
        "print(Human);"
      ],
      "execution_count": 36,
      "outputs": [
        {
          "output_type": "stream",
          "text": [
            "<class '__main__.Human'>\n"
          ],
          "name": "stdout"
        }
      ]
    },
    {
      "cell_type": "markdown",
      "metadata": {
        "id": "qSj-Q2X8RXir"
      },
      "source": [
        "### Creating the Objects and assigning the values"
      ]
    },
    {
      "cell_type": "code",
      "metadata": {
        "colab": {
          "base_uri": "https://localhost:8080/"
        },
        "id": "Aislo3EOKnbK",
        "outputId": "5c1b5473-b5d8-4b91-91b3-614803e40cb8"
      },
      "source": [
        "#creating a student object of type Human\n",
        "student = Human();\n",
        "student.height=6.5;\n",
        "student.weight=54;\n",
        "student.name=\"Kumar\";\n",
        "\n",
        "#creating a teacher object of type Human\n",
        "teacher = Human();\n",
        "teacher.height=5.98;\n",
        "teacher.weight=67;\n",
        "teacher.name=\"John\";"
      ],
      "execution_count": 37,
      "outputs": [
        {
          "output_type": "stream",
          "text": [
            "Constructor called\n",
            "Constructor called\n"
          ],
          "name": "stdout"
        }
      ]
    },
    {
      "cell_type": "markdown",
      "metadata": {
        "id": "bjWCy14HRm3u"
      },
      "source": [
        "### Access the properties of the class"
      ]
    },
    {
      "cell_type": "code",
      "metadata": {
        "colab": {
          "base_uri": "https://localhost:8080/"
        },
        "id": "WO4-uwAGL134",
        "outputId": "1fb4d394-be0d-4b9e-963e-4a8b09a997b4"
      },
      "source": [
        "# Type 1  : Access the properties using . operator\n",
        "#print the student details\n",
        "print(\"The student Details are:\");\n",
        "print(\"Name :\",student.name);\n",
        "print(\"Weight :\",student.weight);\n",
        "print(\"Height :\",student.height);\n",
        "\n",
        "#print the teacher details\n",
        "print(\"The Teacher Details are:\");\n",
        "print(\"Name :\",teacher.name);\n",
        "print(\"Weight :\",teacher.weight);\n",
        "print(\"Height :\",teacher.height);"
      ],
      "execution_count": 38,
      "outputs": [
        {
          "output_type": "stream",
          "text": [
            "The student Details are:\n",
            "Name : Kumar\n",
            "Weight : 54\n",
            "Height : 6.5\n",
            "The Teacher Details are:\n",
            "Name : John\n",
            "Weight : 67\n",
            "Height : 5.98\n"
          ],
          "name": "stdout"
        }
      ]
    },
    {
      "cell_type": "markdown",
      "metadata": {
        "id": "RYjbmpBNRvpe"
      },
      "source": [
        "### Calling the method ShowDetail from the Human class"
      ]
    },
    {
      "cell_type": "code",
      "metadata": {
        "colab": {
          "base_uri": "https://localhost:8080/"
        },
        "id": "-Vlv42y3Pgjj",
        "outputId": "763a1378-173a-46bf-c113-33379e6e397a"
      },
      "source": [
        "# Type 2: call the method defined inside the class using . operator\n",
        "# Easily, you can just call ShowDetail() from the object\n",
        "teacher.ShowDetail(); #calling the method defined in Human\n",
        "student.ShowDetail(); #calling the method defined in Human"
      ],
      "execution_count": 39,
      "outputs": [
        {
          "output_type": "stream",
          "text": [
            "The Details are:\n",
            "Name : John\n",
            "Weight : 67\n",
            "Height : 5.98\n",
            "The Details are:\n",
            "Name : Kumar\n",
            "Weight : 54\n",
            "Height : 6.5\n"
          ],
          "name": "stdout"
        }
      ]
    },
    {
      "cell_type": "code",
      "metadata": {
        "colab": {
          "base_uri": "https://localhost:8080/"
        },
        "id": "VZhwsK64RAM6",
        "outputId": "ce763610-698e-4f4c-8eff-8464b0f431f1"
      },
      "source": [
        "#creating a new object parent\n",
        "parent = Human();\n",
        "parent.name=\"Kumar\"; #change the name of Human object to Kumar\n",
        "parent.ShowDetail();"
      ],
      "execution_count": 41,
      "outputs": [
        {
          "output_type": "stream",
          "text": [
            "Constructor called\n",
            "The Details are:\n",
            "Name : Kumar\n",
            "Weight : 56\n",
            "Height : 5\n"
          ],
          "name": "stdout"
        }
      ]
    }
  ]
}