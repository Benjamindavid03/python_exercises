{
  "nbformat": 4,
  "nbformat_minor": 0,
  "metadata": {
    "colab": {
      "name": "pong.ipynb",
      "provenance": [],
      "authorship_tag": "ABX9TyPUzF7RA7lWKOmT9hvjxzGa",
      "include_colab_link": true
    },
    "kernelspec": {
      "name": "python3",
      "display_name": "Python 3"
    },
    "language_info": {
      "name": "python"
    }
  },
  "cells": [
    {
      "cell_type": "markdown",
      "metadata": {
        "id": "view-in-github",
        "colab_type": "text"
      },
      "source": [
        "<a href=\"https://colab.research.google.com/github/Benjamindavid03/python_exercises/blob/main/pong.ipynb\" target=\"_parent\"><img src=\"https://colab.research.google.com/assets/colab-badge.svg\" alt=\"Open In Colab\"/></a>"
      ]
    },
    {
      "cell_type": "code",
      "source": [
        "!pip install pygame"
      ],
      "metadata": {
        "colab": {
          "base_uri": "https://localhost:8080/"
        },
        "id": "Lc-tRrwkJ_55",
        "outputId": "1af196c1-d839-4011-d2f8-fa7fdf0b8d39"
      },
      "execution_count": 2,
      "outputs": [
        {
          "output_type": "stream",
          "name": "stdout",
          "text": [
            "Looking in indexes: https://pypi.org/simple, https://us-python.pkg.dev/colab-wheels/public/simple/\n",
            "Collecting pygame\n",
            "  Downloading pygame-2.1.2-cp37-cp37m-manylinux_2_17_x86_64.manylinux2014_x86_64.whl (21.8 MB)\n",
            "\u001b[K     |████████████████████████████████| 21.8 MB 1.6 MB/s \n",
            "\u001b[?25hInstalling collected packages: pygame\n",
            "Successfully installed pygame-2.1.2\n"
          ]
        }
      ]
    },
    {
      "cell_type": "code",
      "execution_count": null,
      "metadata": {
        "id": "H63Y2pTeJpiF"
      },
      "outputs": [],
      "source": [
        "import pygame\n",
        "pygame.init()\n",
        "win = pygame.display.set_mode((750,500))\n",
        "pygame.display.set_caption(\"Let's Play Pong!\")\n",
        "\n",
        "white_color = (255,255,255)\n",
        "black_color = (0,0,0)\n",
        "red_color = (255,0,0)\n",
        "blue_color = (0,0,255)\n",
        "\n",
        "paddle_width = 75\n",
        "paddle_inc_width = 10\n",
        "\n",
        "class Paddle(pygame.sprite.Sprite):\n",
        "\n",
        "\tdef __init__(self):\n",
        "\t\tpygame.sprite.Sprite.__init__(self)\n",
        "\t\tself.image = pygame.Surface([10,paddle_width])\n",
        "\t\tself.image.fill(white_color)\n",
        "\t\tself.rect = self.image.get_rect()\n",
        "\t\tself.points = 0\n",
        "\n",
        "class Ball(pygame.sprite.Sprite):\n",
        "\n",
        "\tdef __init__(self):\n",
        "\t\tpygame.sprite.Sprite.__init__(self)\n",
        "\t\tself.image = pygame.Surface([10,10])\n",
        "\t\tself.image.fill(white_color)\n",
        "\t\tself.rect = self.image.get_rect()\n",
        "\t\tself.speed = 10\n",
        "\t\tself.dirnx = 1\n",
        "\t\tself.dirny = 1\n",
        "\n",
        "paddle1 = Paddle()\n",
        "paddle1.rect.x = 25\n",
        "paddle1.rect.y = 225\n",
        "\n",
        "paddle2 = Paddle()\n",
        "paddle2.rect.x = 715\n",
        "paddle2.rect.y = 225\n",
        "\n",
        "pong = Ball()\n",
        "pong.rect.x = 375\n",
        "pong.rect.y = 250\n",
        "\n",
        "all_sprites = pygame.sprite.Group()\n",
        "all_sprites.add(paddle1, paddle2, pong)\n",
        "\n",
        "def redrawWindow():\n",
        "\twin.fill(black_color)\n",
        "\tfont = pygame.font.SysFont(\"comicsans\", 30)\n",
        "\ttext = font.render(\"PONG\", False, red_color)\n",
        "\ttextRect = text.get_rect()\n",
        "\ttextRect.center = (750 // 2, 25)\n",
        "\twin.blit(text, textRect)\n",
        "\n",
        "\tp1_score = font.render(str(paddle1.points), False, blue_color)\n",
        "\tp1Rect = p1_score.get_rect()\n",
        "\tp1Rect.center = (50, 50)\n",
        "\twin.blit(p1_score, p1Rect)\n",
        "\n",
        "\tp2_score = font.render(str(paddle2.points), False, red_color)\n",
        "\tp2Rect = p2_score.get_rect()\n",
        "\tp2Rect.center = (700, 50)\n",
        "\twin.blit(p2_score, p2Rect)\n",
        "\n",
        "\tall_sprites.draw(win)\n",
        "\tpygame.display.update()\n",
        "\n",
        "run = True\n",
        "while run:\n",
        "\tpygame.time.delay(100)\n",
        "\tfor event in pygame.event.get():\n",
        "\t\tif event.type == pygame.QUIT:\n",
        "\t\t\trun = False\n",
        "\n",
        "\tkey = pygame.key.get_pressed()\n",
        "\tif key[pygame.K_w]:\n",
        "\t\tpaddle1.rect.y += -10\n",
        "\n",
        "\tif key[pygame.K_s]:\n",
        "\t\tpaddle1.rect.y += 10\n",
        "\n",
        "\tif key[pygame.K_UP]:\n",
        "\t\tpaddle2.rect.y += -10\n",
        "\n",
        "\tif key[pygame.K_DOWN]:\n",
        "\t\tpaddle2.rect.y += 10\n",
        "\n",
        "\tpong.rect.x += pong.speed*pong.dirnx\n",
        "\tpong.rect.y += pong.speed*pong.dirny\n",
        "\n",
        "\tif pong.rect.y > 490:\n",
        "\t\tpong.dirny = -1\n",
        "\n",
        "\tif pong.rect.x > 740:\n",
        "\t\tpong.rect.x, pong.rect.y = 375, 225\n",
        "\t\tpong.dirnx = -1\n",
        "\t\tpaddle1.points += 1\n",
        "\n",
        "\tif pong.rect.y < 10:\n",
        "\t\tpong.dirny = 1\n",
        "\n",
        "\tif pong.rect.x < 10:\n",
        "\t\tpong.rect.x, pong.rect.y = 375, 225\n",
        "\t\tpong.dirnx = 1\n",
        "\t\tpaddle2.points += 1\n",
        "\t\tpaddle_width += paddle_inc_width\n",
        "\n",
        "\tif paddle1.rect.colliderect(pong.rect):\n",
        "\t\tpong.dirnx = 1\n",
        "\n",
        "\tif paddle2.rect.colliderect(pong.rect):\n",
        "\t\tpong.dirnx = -1\n",
        "\n",
        "\tredrawWindow()\n",
        "\n",
        "pygame.quit()"
      ]
    }
  ]
}