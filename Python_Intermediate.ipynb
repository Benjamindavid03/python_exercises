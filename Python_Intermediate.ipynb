{
  "nbformat": 4,
  "nbformat_minor": 0,
  "metadata": {
    "colab": {
      "name": "Python_Intermediate.ipynb",
      "provenance": [],
      "collapsed_sections": [],
      "toc_visible": true,
      "authorship_tag": "ABX9TyNRhibGdeqcEGA16XHlW4rr",
      "include_colab_link": true
    },
    "kernelspec": {
      "name": "python3",
      "display_name": "Python 3"
    },
    "language_info": {
      "name": "python"
    }
  },
  "cells": [
    {
      "cell_type": "markdown",
      "metadata": {
        "id": "view-in-github",
        "colab_type": "text"
      },
      "source": [
        "<a href=\"https://colab.research.google.com/github/Benjamindavid03/python_exercises/blob/main/Python_Intermediate.ipynb\" target=\"_parent\"><img src=\"https://colab.research.google.com/assets/colab-badge.svg\" alt=\"Open In Colab\"/></a>"
      ]
    },
    {
      "cell_type": "markdown",
      "metadata": {
        "id": "VW4Vhn9Ein_Y"
      },
      "source": [
        "# Functions in Python contd.\n",
        "## Default Parameter value\n",
        "If we call a function without giving any argument value, then the default value will be used."
      ]
    },
    {
      "cell_type": "code",
      "metadata": {
        "id": "iVVbDgOShy9Y"
      },
      "source": [
        "def eat(fruit = \"grapes\"):\n",
        "  print(\"I want to eat\", fruit);"
      ],
      "execution_count": null,
      "outputs": []
    },
    {
      "cell_type": "code",
      "metadata": {
        "colab": {
          "base_uri": "https://localhost:8080/"
        },
        "id": "-_nOAQB0iFsS",
        "outputId": "0b97b738-8f26-4bc9-caad-7a473254259d"
      },
      "source": [
        "# error will not be thrown\n",
        "eat(\"mango\"); # fruit is passed\n",
        "#error will be thrown\n",
        "eat(); # error will be thrown if not given default value\n",
        "#eat(input(\"Enter the fruit name\"));"
      ],
      "execution_count": null,
      "outputs": [
        {
          "output_type": "stream",
          "text": [
            "I want to eat mango\n",
            "I want to eat grapes\n"
          ],
          "name": "stdout"
        }
      ]
    },
    {
      "cell_type": "markdown",
      "metadata": {
        "id": "tSqmvdbgkkR6"
      },
      "source": [
        "## Pass statement\n",
        "If we want to have certain functions,<br/>\n",
        "But, we don't want to give empty functions as they will throw an error. <br/>\n",
        "<br/>\n",
        "<u>We can give a function definition without any content using the pass statement within the function.</u>"
      ]
    },
    {
      "cell_type": "code",
      "metadata": {
        "id": "pXsPqIf9ictZ"
      },
      "source": [
        "def calculateGrade():\n",
        "  pass;\n",
        "\n",
        "def calculateAge():\n",
        "  pass;"
      ],
      "execution_count": null,
      "outputs": []
    },
    {
      "cell_type": "code",
      "metadata": {
        "id": "TrOTIZhtke3O"
      },
      "source": [
        "calculateAge();"
      ],
      "execution_count": null,
      "outputs": []
    },
    {
      "cell_type": "markdown",
      "metadata": {
        "id": "r30nsxB2lNeW"
      },
      "source": [
        "## Recursion\n",
        "\n",
        "A function that needs to be called again and again by the same function."
      ]
    },
    {
      "cell_type": "code",
      "metadata": {
        "id": "CpxL3FkmlaWD"
      },
      "source": [
        "# we need to call count inside of the count\n",
        "def count(k): \n",
        "  if(k>0): #check if k is greater than 0\n",
        "    sum = k + count(k-1);  # sum = k + call the function again with param {k-1}\n",
        "    # count is a recursive function\n",
        "    print(\"k=\",k);\n",
        "    print(\"sum=\",sum);\n",
        "  else:\n",
        "    sum=0;\n",
        "  return sum;\n",
        "\n",
        "v = int(input(\"Enter number :\"));\n",
        "sum = count(v);\n",
        "print(\"The total sum is \",sum);"
      ],
      "execution_count": null,
      "outputs": []
    },
    {
      "cell_type": "markdown",
      "metadata": {
        "id": "ZuBBFLgpwMBW"
      },
      "source": [
        "## Lambda Functions\n",
        "A lambda function is a small function that is anonymous and can be simple<br/>\n",
        "<b>SYNTAX  :</b>\n",
        "<code>\n",
        " fun = lambda arguments : expression\n",
        "</code>"
      ]
    },
    {
      "cell_type": "code",
      "metadata": {
        "id": "g61t_oVAwX9G"
      },
      "source": [
        "# ordinary functions\n",
        "def x1(q):\n",
        "  return q*q;\n",
        "\n",
        "def sum1(a,b):\n",
        "  return a+b;"
      ],
      "execution_count": 8,
      "outputs": []
    },
    {
      "cell_type": "code",
      "metadata": {
        "id": "hegNRIFMyVI4"
      },
      "source": [
        "#lambda functions\n",
        "x2 = lambda q : q*q;\n",
        "sum2 = lambda a,b : a+b;\n",
        "print(x1(3))     #calling function\n",
        "print(x2(3))     #calling lambda function\n",
        "print(sum1(3,2)) #calling function\n",
        "print(sum2(3,1)) #calling lambda function"
      ],
      "execution_count": null,
      "outputs": []
    },
    {
      "cell_type": "code",
      "metadata": {
        "colab": {
          "base_uri": "https://localhost:8080/"
        },
        "id": "Sq3UniGvyYg-",
        "outputId": "5d01b611-6d12-49e4-b091-a10943c01875"
      },
      "source": [
        "area_rect = lambda l,b : l*b;\n",
        "area_square = lambda s : s*s;\n",
        "\n",
        "print(\"Area of rectangle \", area_rect(3,2));\n",
        "print(\"Area of square \", area_square(10));"
      ],
      "execution_count": 13,
      "outputs": [
        {
          "output_type": "stream",
          "text": [
            "Area of rectangle  6\n",
            "Area of square  100\n"
          ],
          "name": "stdout"
        }
      ]
    }
  ]
}